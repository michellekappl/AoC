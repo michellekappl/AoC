{
 "cells": [
  {
   "cell_type": "code",
   "execution_count": 4,
   "metadata": {},
   "outputs": [],
   "source": [
    "import numpy as np"
   ]
  },
  {
   "cell_type": "code",
   "execution_count": 119,
   "metadata": {
    "tags": []
   },
   "outputs": [
    {
     "name": "stdout",
     "output_type": "stream",
     "text": [
      "293450526.0\n"
     ]
    }
   ],
   "source": [
    "import numpy as np\n",
    "\n",
    "with open(\"./day1.txt\") as f:\n",
    "\n",
    "    arr = np.array([])\n",
    "    ret = 0\n",
    "\n",
    "    for line in f:\n",
    "        arr = np.append(arr, int(line.strip()))\n",
    "    \n",
    "    for i, val in enumerate(arr):\n",
    "        for j in range(len(arr)-i):\n",
    "            for k in range(len(arr)-i-j):\n",
    "                if val + arr[j + i] + arr[j + i + k] == 2020:\n",
    "                    ret = val * arr[j + i] * arr[j + i +k]\n",
    "    print(ret)"
   ]
  },
  {
   "cell_type": "code",
   "execution_count": 120,
   "metadata": {
    "tags": []
   },
   "outputs": [
    {
     "name": "stdout",
     "output_type": "stream",
     "text": [
      "493\n"
     ]
    }
   ],
   "source": [
    "with open(\"./day2.txt\") as f:\n",
    "\n",
    "    counter = 0\n",
    "\n",
    "    for line in f:\n",
    "\n",
    "        val = line.strip().split()\n",
    "        amount = val[0].split('-')\n",
    "        letter = val[1].strip(':')\n",
    "\n",
    "        num_letter = ord(letter)\n",
    "        num_pw = np.array([ord(letters) for letters in val[2]])\n",
    "\n",
    "        min_amount = int(amount[0])\n",
    "        max_amount = int(amount[1])\n",
    "\n",
    "        nonzero = np.nonzero(num_pw - num_letter)[0]\n",
    "\n",
    "        if ((len(num_pw) - min_amount) >= len(nonzero)) and ((len(num_pw) - max_amount) <= len(nonzero)):\n",
    "            counter += 1\n",
    "\n",
    "    print(counter)"
   ]
  },
  {
   "cell_type": "code",
   "execution_count": 121,
   "metadata": {},
   "outputs": [
    {
     "name": "stdout",
     "output_type": "stream",
     "text": [
      "593\n"
     ]
    }
   ],
   "source": [
    "with open(\"./day2.txt\") as f:\n",
    "\n",
    "    counter = 0\n",
    "\n",
    "    for line in f:\n",
    "\n",
    "        val = line.strip().split()\n",
    "        amount = val[0].split('-')\n",
    "        letter = val[1].strip(':')\n",
    "\n",
    "        num_letter = ord(letter)\n",
    "        num_pw = np.array([ord(letters) for letters in val[2]])\n",
    "\n",
    "        a_pos = int(amount[0])-1\n",
    "        b_pos = int(amount[1])-1\n",
    "\n",
    "        if bool(num_pw[a_pos] - num_letter) ^ bool(num_pw[b_pos] - num_letter):\n",
    "            counter += 1\n",
    "\n",
    "    print(counter)"
   ]
  },
  {
   "cell_type": "code",
   "execution_count": 122,
   "metadata": {},
   "outputs": [
    {
     "name": "stdout",
     "output_type": "stream",
     "text": [
      "220\n"
     ]
    }
   ],
   "source": [
    "with open(\"./day3.txt\") as f:\n",
    "\n",
    "   \n",
    "\n",
    "    # for i, line in enumerate(f):\n",
    "    #     line = line.strip()\n",
    "    #     line_arr = np.array([letters for letters in line])\n",
    "    #     if i == 0:\n",
    "    #         matrix = np.array(line_arr)\n",
    "    #     matrix = np.vstack((matrix, line_arr))\n",
    "    # print(matrix.shape)\n",
    "\n",
    "    # i = 3\n",
    "\n",
    "    # for j in range(1, matrix.shape[0]):\n",
    "    #     if matrix[j][i] == '#':\n",
    "    #         counter += 1\n",
    "\n",
    "    #     i += 3\n",
    "    #     if i == matrix.shape[1] -1:\n",
    "    #         i = 0\n",
    "    counter = 0\n",
    "    i = 0\n",
    "\n",
    "    for line in f:\n",
    "\n",
    "        line = line.strip()\n",
    "\n",
    "        if line[i] == \"#\":\n",
    "            counter += 1\n",
    "        #print(i)\n",
    "        i += 3\n",
    "\n",
    "        if i > len(line)-1:\n",
    "            i = i - 31\n",
    "\n",
    "    print(counter)\n"
   ]
  },
  {
   "cell_type": "code",
   "execution_count": 123,
   "metadata": {},
   "outputs": [],
   "source": [
    "def slope(right):\n",
    "    with open(\"./day3.txt\") as f:\n",
    "\n",
    "        counter = 0\n",
    "        i = 0\n",
    "\n",
    "        for line in f:\n",
    "\n",
    "            line = line.strip()\n",
    "\n",
    "            if line[i] == \"#\":\n",
    "                counter += 1\n",
    "            #print(i)\n",
    "            i += right\n",
    "\n",
    "            if i > len(line)-1:\n",
    "                i = i - 31\n",
    "    return counter\n",
    "def slopedown(down):\n",
    "\n",
    "    with open(\"./day3.txt\") as f:\n",
    "        \n",
    "        counter = 0\n",
    "        i = 0\n",
    "\n",
    "        for j, line in enumerate(f):\n",
    "            if j % down == 0:\n",
    "\n",
    "                line = line.strip()\n",
    "\n",
    "                if line[i] == \"#\":\n",
    "                    counter += 1\n",
    "                #print(i)\n",
    "                i += 1\n",
    "\n",
    "                if i > len(line)-1:\n",
    "                    i = i - 31\n",
    "    return counter"
   ]
  },
  {
   "cell_type": "code",
   "execution_count": 124,
   "metadata": {},
   "outputs": [
    {
     "name": "stdout",
     "output_type": "stream",
     "text": [
      "2138320800\n"
     ]
    }
   ],
   "source": [
    "res = slope(1)*slope(3)*slope(5)*slope(7)*slopedown(2)\n",
    "print(res)"
   ]
  },
  {
   "cell_type": "code",
   "execution_count": null,
   "metadata": {},
   "outputs": [],
   "source": []
  },
  {
   "cell_type": "code",
   "execution_count": 5,
   "metadata": {},
   "outputs": [],
   "source": [
    "def contains_all_elements(arrs):\n",
    "    keys = np.array(['byr', 'iyr', 'eyr', 'hgt', 'hcl', 'ecl', 'pid'])\n",
    "    keys_contain = [element.split(':')[0] for element in arrs]\n",
    "    \n",
    "    for key in keys:\n",
    "        #print(key)\n",
    "        if key not in keys_contain:\n",
    "            return False\n",
    "    return True"
   ]
  },
  {
   "cell_type": "code",
   "execution_count": 142,
   "metadata": {},
   "outputs": [],
   "source": [
    "import re\n",
    "\n",
    "def valid_data (arr: np.array):\n",
    "\n",
    "    keys = np.array(['byr', 'iyr', 'eyr', 'hgt', 'hcl', 'ecl', 'pid'])\n",
    "    eye = ['amb', 'blu', 'brn', 'gry', 'grn', 'hzl','oth']\n",
    "    contain_keys = np.array([])\n",
    "    contain_values = np.array([])\n",
    "\n",
    "    for i, element in enumerate(arr):\n",
    "        element = element.split(':')\n",
    "        contain_keys = np.append(contain_keys, element[0])\n",
    "        contain_values = np.append(contain_values, element[1])\n",
    "    data = np.vstack((contain_keys, contain_values))\n",
    "\n",
    "    for i, key in enumerate(keys):\n",
    "        if key not in data[0]:\n",
    "            return False\n",
    "        else:\n",
    "            value = data[1][np.where(key == data[0])]\n",
    "            value = value[0]\n",
    "            \n",
    "            if i == 0 or i == 1 or i == 2: \n",
    "                value = int(value)\n",
    "                if len(str(value)) != 4 or (key == 'byr' and (value < 1920 or value > 2002)) or (key == 'iyr' and (value < 2010 or value > 2020)) or (key == 'eyr' and (value < 2020 or value > 2030)):\n",
    "                    return False\n",
    "            if i == 3:\n",
    "                x = re.findall(\"([0-9]+)(cm|in)\", value)\n",
    "                if x:\n",
    "                    if (x[0][1] == 'in' and (59 > int(x[0][0]) or int(x[0][0]) > 76)) or (x[0][1] == 'cm' and (150 > int(x[0][0]) or int(x[0][0]) > 193)):\n",
    "                        return False\n",
    "                else:\n",
    "                    return False\n",
    "            if i == 4:\n",
    "                y = re.findall('\\#(([0-9]|[a-f]){6})', value)\n",
    "                if not y:\n",
    "                    return False\n",
    "            if i == 5:\n",
    "                if value not in eye:\n",
    "                    return False\n",
    "            if i == 6:\n",
    "                if not re.findall('[0-9]{9}', value):\n",
    "                    return False\n",
    "    return True\n"
   ]
  },
  {
   "cell_type": "code",
   "execution_count": 143,
   "metadata": {},
   "outputs": [
    {
     "name": "stdout",
     "output_type": "stream",
     "text": [
      "175\n"
     ]
    }
   ],
   "source": [
    "with open(\"./passports.txt\") as fh:\n",
    "    \n",
    "    vals = np.array([])\n",
    "    counter = 0\n",
    "\n",
    "    for i, lines in enumerate(fh):\n",
    "        lines = lines.strip().split()\n",
    "        vals = np.append(vals, lines)\n",
    "        if lines == []:\n",
    "            counter += valid_data(vals)\n",
    "            vals = np.array([])   \n",
    "    print(counter)"
   ]
  },
  {
   "cell_type": "code",
   "execution_count": 76,
   "metadata": {},
   "outputs": [
    {
     "name": "stdout",
     "output_type": "stream",
     "text": [
      "883.0\n"
     ]
    }
   ],
   "source": [
    "import numpy as np\n",
    "\n",
    "with open(\"./day5.txt\") as f:\n",
    "\n",
    "    rows = np.array([2**x for x in range(6,-1,-1)])\n",
    "    columns = np.array([2**x for x in range(2,-1,-1)])\n",
    "\n",
    "    seat_ids = []\n",
    "\n",
    "    for line in f:\n",
    "        array = np.array([0 if (letter == 'F' or letter == 'L') else 1 for letter in line.strip()])\n",
    "        row = array[:7]\n",
    "        column = array[7:]\n",
    "        row_number = np.sum(rows*row)\n",
    "\n",
    "        column_number = np.sum(columns*column)\n",
    "        seat_ids = np.append(seat_ids, (row_number*8 + column_number))\n",
    "    print(max(seat_ids)) "
   ]
  },
  {
   "cell_type": "code",
   "execution_count": 15,
   "metadata": {},
   "outputs": [
    {
     "name": "stdout",
     "output_type": "stream",
     "text": [
      "532.0\n"
     ]
    }
   ],
   "source": [
    "import numpy as np\n",
    "\n",
    "with open(\"./day5.txt\") as f:\n",
    "\n",
    "    rows = np.array([2**x for x in range(6,-1,-1)])\n",
    "    columns = np.array([2**x for x in range(2,-1,-1)])\n",
    "\n",
    "    seat_ids = []\n",
    "\n",
    "    for line in f:\n",
    "        array = np.array([0 if (letter == 'F' or letter == 'L') else 1 for letter in line.strip()])\n",
    "        row = array[:7]\n",
    "        column = array[7:]\n",
    "        row_number = np.sum(rows*row)\n",
    "\n",
    "        column_number = np.sum(columns*column)\n",
    "        seat_ids = np.append(seat_ids, (row_number*8 + column_number))\n",
    "    \n",
    "    sorted_ids = np.sort(seat_ids)\n",
    "    for i, ids in enumerate(sorted_ids):\n",
    "        if i == len(sorted_ids)-1:\n",
    "            break\n",
    "        if ids+1 != sorted_ids[i+1]:\n",
    "            print(ids+1)"
   ]
  },
  {
   "cell_type": "code",
   "execution_count": 125,
   "metadata": {},
   "outputs": [],
   "source": [
    "def to_string(letter: str):\n",
    "    return ord(letter)-97"
   ]
  },
  {
   "cell_type": "code",
   "execution_count": 134,
   "metadata": {},
   "outputs": [
    {
     "name": "stdout",
     "output_type": "stream",
     "text": [
      "3305.0\n"
     ]
    }
   ],
   "source": [
    "with open('./day6.txt') as f:\n",
    "\n",
    "    answers = np.zeros((0,26))\n",
    "    group = np.zeros((26))\n",
    "    people_in_group = 0\n",
    "    everyone = np.zeros((26))\n",
    "\n",
    "    for i, lines in enumerate(f):\n",
    "        lines = lines.strip().split()\n",
    "        \n",
    "        if lines == []:\n",
    "            everyone[group == people_in_group] = 1 \n",
    "            answers = np.vstack((answers, everyone))\n",
    "            group = np.zeros((26))\n",
    "            everyone = np.zeros((26))\n",
    "            people_in_group = 0\n",
    "        else:\n",
    "            people_in_group += 1\n",
    "            for x in lines[0]:\n",
    "                group[to_string(x)] += 1\n",
    "    print(np.sum(answers))"
   ]
  },
  {
   "cell_type": "code",
   "execution_count": 72,
   "metadata": {},
   "outputs": [],
   "source": [
    "def recursive1(rules, input_bag):\n",
    "        \n",
    "    shinygold = False\n",
    "    for subbags in rules[input_bag]:\n",
    "        if 'shiny gold' in subbags:\n",
    "            shinygold = True\n",
    "            return shinygold\n",
    "        elif 'o other' in subbags:\n",
    "            pass\n",
    "        else:\n",
    "            shinygold = recursive(rules, subbags)\n",
    "            if shinygold:s\n",
    "                return shinygold      \n",
    "        \n"
   ]
  },
  {
   "cell_type": "code",
   "execution_count": 75,
   "metadata": {},
   "outputs": [
    {
     "name": "stdout",
     "output_type": "stream",
     "text": [
      "179\n"
     ]
    }
   ],
   "source": [
    "import re\n",
    "import numpy as np\n",
    "# .*(?=contain) everything before contain\n",
    "#  (?<=contain)(.*) after contain (no contain)\n",
    "\n",
    "with open('./day7.txt') as f:\n",
    "    \n",
    "    d = {}\n",
    "    counter = 0 \n",
    "\n",
    "    for lines in f:\n",
    "        lines = lines.strip().strip('.')\n",
    "        key = re.findall('.*(?=contain)', lines)[0].strip().rstrip('bags').strip()\n",
    "        val = re.findall('(?<=contain)(.*)', lines)[0].split(',')\n",
    "        d.setdefault(key, [])        \n",
    "        for bag in val:\n",
    "            bag = bag[2:].rstrip().rstrip('s').strip('bag').strip()\n",
    "            d[key].append(bag)\n",
    "    #print(d)\n",
    "    for bags in d.keys():\n",
    "        if recursive1(d, bags):\n",
    "            counter += 1\n",
    "    print(counter)\n",
    "    "
   ]
  },
  {
   "cell_type": "code",
   "execution_count": 190,
   "metadata": {},
   "outputs": [],
   "source": [
    "def part1(instr, val):\n",
    "    visited = []\n",
    "    acc = 0\n",
    "    idx = 0\n",
    "\n",
    "    while True:\n",
    "        i = instr[idx]\n",
    "        if idx in visited:\n",
    "            print(acc)\n",
    "            break\n",
    "\n",
    "        if i == 'nop':\n",
    "            visited.append(idx)\n",
    "            idx += 1\n",
    "\n",
    "        elif i == 'acc':\n",
    "            acc += int(val[idx])\n",
    "            visited.append(idx)\n",
    "            idx += 1\n",
    "\n",
    "        elif i == 'jmp':\n",
    "            visited.append(idx)\n",
    "            idx += int(val[idx])\n",
    "            if idx in visited:\n",
    "                print(acc)\n",
    "                break\n",
    "\n",
    "def loop(instr, val):\n",
    "\n",
    "    visited = []\n",
    "    acc = 0\n",
    "    idx = 0\n",
    "\n",
    "    while True:\n",
    "\n",
    "        if idx >= len(instr):\n",
    "            return acc, False\n",
    "\n",
    "        i = instr[idx]\n",
    "        #print(i)\n",
    "\n",
    "        #print(visited)\n",
    "        if idx in visited:\n",
    "            return 0, True\n",
    "\n",
    "        if i == 'nop':\n",
    "            visited.append(idx)\n",
    "            idx += 1\n",
    "\n",
    "        elif i == 'acc':\n",
    "            visited.append(idx)\n",
    "            acc += int(val[idx])\n",
    "            #print(acc)\n",
    "            idx += 1\n",
    "\n",
    "        elif i == 'jmp':\n",
    "            if int(val[idx]) == 0:\n",
    "                idx +=1\n",
    "            visited.append(idx)\n",
    "            idx += int(val[idx])\n",
    "\n",
    "\n",
    "def part2(instr, val):\n",
    "    for idx, i in enumerate(instr):\n",
    "        #print(i)\n",
    "        if i == 'nop':\n",
    "            instr[idx] = 'jmp'\n",
    "            acc, ret = loop(instr, val)\n",
    "            if ret:\n",
    "                instr[idx] = 'nop'\n",
    "                pass\n",
    "            else:\n",
    "                print(acc)\n",
    "                break\n",
    "        elif i == 'acc':\n",
    "            pass\n",
    "\n",
    "        elif i == 'jmp':\n",
    "            instr[idx] = 'nop'\n",
    "            acc, ret = loop(instr, val)\n",
    "            \n",
    "            if ret == True:\n",
    "                instr[idx] = 'jmp'\n",
    "                pass\n",
    "            else:\n",
    "                print(acc)\n",
    "                break\n"
   ]
  },
  {
   "cell_type": "code",
   "execution_count": 191,
   "metadata": {
    "tags": []
   },
   "outputs": [
    {
     "name": "stdout",
     "output_type": "stream",
     "text": [
      "758\n"
     ]
    }
   ],
   "source": [
    "import pandas as pd\n",
    "\n",
    "with open('./day8.txt') as f:\n",
    "\n",
    "    instr = []\n",
    "    val = []\n",
    "    for line in f:\n",
    "        line = line.strip().split(' ')\n",
    "        #print(line[0])\n",
    "        instr.append(line[0])\n",
    "        val.append(line[1])\n",
    "        #print(instr)\n",
    "            \n",
    "    #part1(instr, val)\n",
    "    part2(instr, val)"
   ]
  },
  {
   "cell_type": "code",
   "execution_count": 185,
   "metadata": {},
   "outputs": [],
   "source": [
    "instr = ['nop','acc','jmp','acc','jmp','acc','acc','jmp','acc']\n",
    "val = ['+0','+1','+4','+3','-3','-99','+1','-4','+6']\n",
    "\n",
    "#part2(instr, val)"
   ]
  },
  {
   "cell_type": "code",
   "execution_count": null,
   "metadata": {},
   "outputs": [],
   "source": []
  },
  {
   "cell_type": "code",
   "execution_count": null,
   "metadata": {},
   "outputs": [],
   "source": []
  }
 ],
 "metadata": {
  "kernelspec": {
   "display_name": "Python 3.10.2 64-bit ('3.10.2')",
   "language": "python",
   "name": "python3"
  },
  "language_info": {
   "codemirror_mode": {
    "name": "ipython",
    "version": 3
   },
   "file_extension": ".py",
   "mimetype": "text/x-python",
   "name": "python",
   "nbconvert_exporter": "python",
   "pygments_lexer": "ipython3",
   "version": "3.10.2"
  },
  "vscode": {
   "interpreter": {
    "hash": "562f6bb7d8617d25b01cf9a45a45a7e25dc835eb3ca5697ea2bed226e8cc61f5"
   }
  }
 },
 "nbformat": 4,
 "nbformat_minor": 4
}
