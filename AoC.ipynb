{
 "cells": [
  {
   "cell_type": "code",
   "execution_count": 91,
   "metadata": {
    "tags": []
   },
   "outputs": [
    {
     "output_type": "stream",
     "name": "stdout",
     "text": [
      "293450526.0\n"
     ]
    }
   ],
   "source": [
    "import numpy as np\n",
    "\n",
    "with open(\"./day1.txt\") as f:\n",
    "\n",
    "    arr = np.array([])\n",
    "    ret = 0\n",
    "\n",
    "    for line in f:\n",
    "        arr = np.append(arr, int(line.strip()))\n",
    "    \n",
    "    for i, val in enumerate(arr):\n",
    "        for j in range(len(arr)-i):\n",
    "            for k in range(len(arr)-i-j):\n",
    "                if val + arr[j + i] + arr[j + i + k] == 2020:\n",
    "                    ret = val * arr[j + i] * arr[j + i +k]\n",
    "    print(ret)"
   ]
  },
  {
   "cell_type": "code",
   "execution_count": 92,
   "metadata": {
    "tags": []
   },
   "outputs": [
    {
     "output_type": "stream",
     "name": "stdout",
     "text": [
      "493\n"
     ]
    }
   ],
   "source": [
    "with open(\"./day2.txt\") as f:\n",
    "\n",
    "    counter = 0\n",
    "\n",
    "    for line in f:\n",
    "\n",
    "        val = line.strip().split()\n",
    "        amount = val[0].split('-')\n",
    "        letter = val[1].strip(':')\n",
    "\n",
    "        num_letter = ord(letter)\n",
    "        num_pw = np.array([ord(letters) for letters in val[2]])\n",
    "\n",
    "        min_amount = int(amount[0])\n",
    "        max_amount = int(amount[1])\n",
    "\n",
    "        nonzero = np.nonzero(num_pw - num_letter)[0]\n",
    "\n",
    "        if ((len(num_pw) - min_amount) >= len(nonzero)) and ((len(num_pw) - max_amount) <= len(nonzero)):\n",
    "            counter += 1\n",
    "\n",
    "    print(counter)"
   ]
  },
  {
   "cell_type": "code",
   "execution_count": 93,
   "metadata": {},
   "outputs": [
    {
     "output_type": "stream",
     "name": "stdout",
     "text": [
      "593\n"
     ]
    }
   ],
   "source": [
    "with open(\"./day2.txt\") as f:\n",
    "\n",
    "    counter = 0\n",
    "\n",
    "    for line in f:\n",
    "\n",
    "        val = line.strip().split()\n",
    "        amount = val[0].split('-')\n",
    "        letter = val[1].strip(':')\n",
    "\n",
    "        num_letter = ord(letter)\n",
    "        num_pw = np.array([ord(letters) for letters in val[2]])\n",
    "\n",
    "        a_pos = int(amount[0])-1\n",
    "        b_pos = int(amount[1])-1\n",
    "\n",
    "        if bool(num_pw[a_pos] - num_letter) ^ bool(num_pw[b_pos] - num_letter):\n",
    "            counter += 1\n",
    "\n",
    "    print(counter)"
   ]
  },
  {
   "cell_type": "code",
   "execution_count": 224,
   "metadata": {},
   "outputs": [
    {
     "output_type": "stream",
     "name": "stdout",
     "text": [
      "220\n"
     ]
    }
   ],
   "source": [
    "with open(\"./day3.txt\") as f:\n",
    "\n",
    "   \n",
    "\n",
    "    # for i, line in enumerate(f):\n",
    "    #     line = line.strip()\n",
    "    #     line_arr = np.array([letters for letters in line])\n",
    "    #     if i == 0:\n",
    "    #         matrix = np.array(line_arr)\n",
    "    #     matrix = np.vstack((matrix, line_arr))\n",
    "    # print(matrix.shape)\n",
    "\n",
    "    # i = 3\n",
    "\n",
    "    # for j in range(1, matrix.shape[0]):\n",
    "    #     if matrix[j][i] == '#':\n",
    "    #         counter += 1\n",
    "\n",
    "    #     i += 3\n",
    "    #     if i == matrix.shape[1] -1:\n",
    "    #         i = 0\n",
    "    counter = 0\n",
    "    i = 0\n",
    "\n",
    "    for line in f:\n",
    "\n",
    "        line = line.strip()\n",
    "\n",
    "        if line[i] == \"#\":\n",
    "            counter += 1\n",
    "        #print(i)\n",
    "        i += 3\n",
    "\n",
    "        if i > len(line)-1:\n",
    "            i = i - 31\n",
    "\n",
    "    print(counter)\n"
   ]
  },
  {
   "cell_type": "code",
   "execution_count": 228,
   "metadata": {},
   "outputs": [],
   "source": [
    "def slope(right):\n",
    "    with open(\"./day3.txt\") as f:\n",
    "\n",
    "        counter = 0\n",
    "        i = 0\n",
    "\n",
    "        for line in f:\n",
    "\n",
    "            line = line.strip()\n",
    "\n",
    "            if line[i] == \"#\":\n",
    "                counter += 1\n",
    "            #print(i)\n",
    "            i += right\n",
    "\n",
    "            if i > len(line)-1:\n",
    "                i = i - 31\n",
    "    return counter\n",
    "def slopedown(down):\n",
    "\n",
    "    with open(\"./day3.txt\") as f:\n",
    "        \n",
    "        counter = 0\n",
    "        i = 0\n",
    "\n",
    "        for j, line in enumerate(f):\n",
    "            if j % down == 0:\n",
    "\n",
    "                line = line.strip()\n",
    "\n",
    "                if line[i] == \"#\":\n",
    "                    counter += 1\n",
    "                #print(i)\n",
    "                i += 1\n",
    "\n",
    "                if i > len(line)-1:\n",
    "                    i = i - 31\n",
    "    return counter"
   ]
  },
  {
   "cell_type": "code",
   "execution_count": 231,
   "metadata": {},
   "outputs": [
    {
     "output_type": "stream",
     "name": "stdout",
     "text": [
      "2138320800\n"
     ]
    }
   ],
   "source": [
    "res = slope(1)*slope(3)*slope(5)*slope(7)*slopedown(2)\n",
    "print(res)"
   ]
  },
  {
   "cell_type": "code",
   "execution_count": null,
   "metadata": {},
   "outputs": [],
   "source": []
  }
 ],
 "metadata": {
  "kernelspec": {
   "display_name": "Python 3",
   "language": "python",
   "name": "python3"
  },
  "language_info": {
   "codemirror_mode": {
    "name": "ipython",
    "version": 3
   },
   "file_extension": ".py",
   "mimetype": "text/x-python",
   "name": "python",
   "nbconvert_exporter": "python",
   "pygments_lexer": "ipython3",
   "version": "3.8.5-final"
  }
 },
 "nbformat": 4,
 "nbformat_minor": 4
}