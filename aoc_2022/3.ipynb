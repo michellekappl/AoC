{
 "cells": [
  {
   "cell_type": "code",
   "execution_count": 38,
   "metadata": {},
   "outputs": [
    {
     "name": "stdout",
     "output_type": "stream",
     "text": [
      "8401\n"
     ]
    }
   ],
   "source": [
    "import numpy as np\n",
    "\n",
    "with open(\"3.txt\") as f:\n",
    "    sum = 0\n",
    "    for i,line in enumerate(f):\n",
    "        line = line.strip(\"\\n\")\n",
    "        comp_size = int(len(line.strip(\"\\n\"))/2)\n",
    "\n",
    "        comp1 = line[:comp_size]\n",
    "        comp2 = line[comp_size:]\n",
    "        \n",
    "        for letter in comp1:\n",
    "            if letter in comp2:\n",
    "                if ord(letter) > 96:\n",
    "                    sum += ord(letter) - 96\n",
    "                    break\n",
    "                else:\n",
    "                    sum += ord(letter) - 64 + 26\n",
    "                    break\n",
    "    print(sum)"
   ]
  },
  {
   "cell_type": "code",
   "execution_count": 43,
   "metadata": {},
   "outputs": [
    {
     "name": "stdout",
     "output_type": "stream",
     "text": [
      "2641\n"
     ]
    }
   ],
   "source": [
    "import numpy as np\n",
    "\n",
    "with open(\"3.txt\") as f:\n",
    "    data = f.read().splitlines()\n",
    "\n",
    "for i in range(0,len(data)-2,3):\n",
    "    back1 = data[i]\n",
    "    back2 = data[i+1]\n",
    "    back3 = data[i+2]\n",
    "    for letter in back1:\n",
    "        if letter in back2 and letter in back3:\n",
    "            if ord(letter) > 96:\n",
    "                sum += ord(letter) - 96\n",
    "                break\n",
    "            else:\n",
    "                sum += ord(letter) - 64 + 26\n",
    "                break\n",
    "print(sum)\n",
    "    "
   ]
  },
  {
   "cell_type": "code",
   "execution_count": null,
   "metadata": {},
   "outputs": [],
   "source": []
  }
 ],
 "metadata": {
  "kernelspec": {
   "display_name": "Python 3.9.7 64-bit ('aoc')",
   "language": "python",
   "name": "python3"
  },
  "language_info": {
   "codemirror_mode": {
    "name": "ipython",
    "version": 3
   },
   "file_extension": ".py",
   "mimetype": "text/x-python",
   "name": "python",
   "nbconvert_exporter": "python",
   "pygments_lexer": "ipython3",
   "version": "3.9.7"
  },
  "orig_nbformat": 4,
  "vscode": {
   "interpreter": {
    "hash": "1608fea96a511cd7a9bfd9458c6fe688c242d5f275cf37c979f1089e9ba14505"
   }
  }
 },
 "nbformat": 4,
 "nbformat_minor": 2
}
