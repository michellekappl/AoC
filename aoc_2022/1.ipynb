{
 "cells": [
  {
   "cell_type": "code",
   "execution_count": 70,
   "metadata": {},
   "outputs": [
    {
     "ename": "TypeError",
     "evalue": "int() argument must be a string, a bytes-like object or a number, not 'list'",
     "output_type": "error",
     "traceback": [
      "\u001b[0;31m---------------------------------------------------------------------------\u001b[0m",
      "\u001b[0;31mTypeError\u001b[0m                                 Traceback (most recent call last)",
      "Cell \u001b[0;32mIn[70], line 4\u001b[0m\n\u001b[1;32m      1\u001b[0m \u001b[39mimport\u001b[39;00m \u001b[39mnumpy\u001b[39;00m \u001b[39mas\u001b[39;00m \u001b[39mnp\u001b[39;00m\n\u001b[1;32m      3\u001b[0m \u001b[39mwith\u001b[39;00m \u001b[39mopen\u001b[39m(\u001b[39m\"\u001b[39m\u001b[39m1.txt\u001b[39m\u001b[39m\"\u001b[39m) \u001b[39mas\u001b[39;00m f:\n\u001b[0;32m----> 4\u001b[0m     data \u001b[39m=\u001b[39m [\u001b[39mlist\u001b[39;49m(\u001b[39mmap\u001b[39;49m(\u001b[39mint\u001b[39;49m,(x\u001b[39m.\u001b[39;49msplitlines() \u001b[39mfor\u001b[39;49;00m x \u001b[39min\u001b[39;49;00m f\u001b[39m.\u001b[39;49mread()\u001b[39m.\u001b[39;49msplit(\u001b[39m\"\u001b[39;49m\u001b[39m\\n\u001b[39;49;00m\u001b[39m\\n\u001b[39;49;00m\u001b[39m\"\u001b[39;49m))))]\n\u001b[1;32m      5\u001b[0m \u001b[39mprint\u001b[39m(data)\n\u001b[1;32m      6\u001b[0m new_data \u001b[39m=\u001b[39m []\n",
      "\u001b[0;31mTypeError\u001b[0m: int() argument must be a string, a bytes-like object or a number, not 'list'"
     ]
    }
   ],
   "source": [
    "import numpy as np\n",
    "\n",
    "with open(\"1.txt\") as f:\n",
    "    data = [x.splitlines() for x in f.read().split(\"\\n\\n\")]\n",
    "print(data)\n",
    "new_data = []\n",
    "sums = []\n",
    "for idx,pack in enumerate(data):\n",
    "    new_data.append(list(map(int, pack)))\n",
    "    sums.append(sum(new_data[idx]))\n",
    "\n",
    "sums.sort(reverse=1)\n",
    "print(sum(sums[:2]))\n"
   ]
  },
  {
   "cell_type": "code",
   "execution_count": null,
   "metadata": {},
   "outputs": [],
   "source": []
  }
 ],
 "metadata": {
  "kernelspec": {
   "display_name": "Python 3.9.7 64-bit ('aoc')",
   "language": "python",
   "name": "python3"
  },
  "language_info": {
   "codemirror_mode": {
    "name": "ipython",
    "version": 3
   },
   "file_extension": ".py",
   "mimetype": "text/x-python",
   "name": "python",
   "nbconvert_exporter": "python",
   "pygments_lexer": "ipython3",
   "version": "3.9.7"
  },
  "orig_nbformat": 4,
  "vscode": {
   "interpreter": {
    "hash": "1608fea96a511cd7a9bfd9458c6fe688c242d5f275cf37c979f1089e9ba14505"
   }
  }
 },
 "nbformat": 4,
 "nbformat_minor": 2
}
